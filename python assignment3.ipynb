{
 "cells": [
  {
   "cell_type": "code",
   "execution_count": null,
   "id": "f47150d5",
   "metadata": {},
   "outputs": [],
   "source": [
    "\"\"\"1. Why are functions advantageous to have in your programs?\n",
    "\n",
    "ans\n",
    "Functions reduce the need for duplicate code. This makes programs shorter, easier to read, and easier to update.\"\"\""
   ]
  },
  {
   "cell_type": "code",
   "execution_count": null,
   "id": "847a400f",
   "metadata": {},
   "outputs": [],
   "source": [
    "\"\"\"2. When does the code in a function run: when its specified or when its called?\n",
    "\n",
    "ans\n",
    "A Function in Python is a piece of code which runs when it is referenced. \n",
    "It is used to utilize the code in more than one place in a program. \n",
    "It is also called method or procedure.\"\"\""
   ]
  },
  {
   "cell_type": "code",
   "execution_count": null,
   "id": "4a8530ae",
   "metadata": {},
   "outputs": [],
   "source": [
    "\"\"\"3. What statement creates a function?\n",
    "\n",
    "ans\n",
    "A function is created with the def keyword. The statements in the block of the function must be indented. \n",
    "The def keyword is followed by the function name with round brackets and a colon.\"\"\"\n"
   ]
  },
  {
   "cell_type": "code",
   "execution_count": null,
   "id": "5bb271fb",
   "metadata": {},
   "outputs": [],
   "source": [
    "\"\"\"4. What is the difference between a function and a function call?\n",
    "ans\n",
    "A function is procedure to achieve a particular result while function call is using this function to achive that task.\"\"\""
   ]
  },
  {
   "cell_type": "code",
   "execution_count": null,
   "id": "1c341cde",
   "metadata": {},
   "outputs": [],
   "source": [
    "\"\"\"5. How many global scopes are there in a Python program? How many local scopes?\n",
    "ans\n",
    "There's only one global Python scope per program execution. This scope remains in existence \n",
    "until the program terminates and all its names are forgotten.\n",
    "A variable created inside a function belongs to the local scope of that function, and can only be used inside that function.\"\"\""
   ]
  },
  {
   "cell_type": "code",
   "execution_count": null,
   "id": "efa5512d",
   "metadata": {},
   "outputs": [],
   "source": [
    "\"\"\"6. What happens to variables in a local scope when the function call returns?\n",
    "\n",
    "Ans\n",
    "A local variable retains its value until the next time the function is called A local variable \n",
    "becomes undefined after the function call completes \n",
    "The local variable can be used outside the function any time after the function call completes.\"\"\""
   ]
  },
  {
   "cell_type": "code",
   "execution_count": null,
   "id": "779bd8d1",
   "metadata": {},
   "outputs": [],
   "source": [
    "\"\"\"7. What is the concept of a return value? Is it possible to have a return value in an expression?\n",
    "\n",
    "Ans\n",
    "A return is a value that a function returns to the calling script or function when it completes its task. \n",
    "A return value can be any one of the four variable types: handle, integer, object, or string.\n",
    "A return statement is used to end the execution of the function call and “returns” the result \n",
    "(value of the expression following the return keyword) to the caller. If the return statement is without any expression, \n",
    "then the special value None is returned.\"\"\""
   ]
  },
  {
   "cell_type": "code",
   "execution_count": null,
   "id": "a5b95622",
   "metadata": {},
   "outputs": [],
   "source": [
    "\"\"\"8. If a function does not have a return statement, what is the return value of a call to that function?\n",
    "ans\n",
    "If a function doesn't specify a return value, it returns None . In an if/then conditional statement, None evaluates to False\"\"\""
   ]
  },
  {
   "cell_type": "code",
   "execution_count": null,
   "id": "0b8ffa4e",
   "metadata": {},
   "outputs": [],
   "source": [
    "\"\"\"9. How do you make a function variable refer to the global variable?\n",
    "ans\n",
    "If you want to refer to a global variable in a function, you can \n",
    "use the global keyword to declare which variables are global\"\"\""
   ]
  },
  {
   "cell_type": "code",
   "execution_count": null,
   "id": "0a44e39d",
   "metadata": {},
   "outputs": [],
   "source": [
    "\"\"\"10. What is the data type of None?\n",
    "ans\n",
    "The None keyword is used to define a null value, or no value at all. None is not the same as 0, \n",
    "False, or an empty string. None is a data type of its own (NoneType) and only None can be None.\"\"\""
   ]
  },
  {
   "cell_type": "code",
   "execution_count": null,
   "id": "5264abc7",
   "metadata": {},
   "outputs": [],
   "source": [
    "\"\"\"11. What does the sentence import areallyourpetsnamederic do?\n",
    "\n",
    "Ans\n",
    "hat import statement imports a module named areallyourpetsnamederic.\"\"\""
   ]
  },
  {
   "cell_type": "code",
   "execution_count": null,
   "id": "b73137fd",
   "metadata": {},
   "outputs": [],
   "source": [
    "\"\"\"12. If you had a bacon() feature in a spam module, what would you call it after importing spam?\n",
    "Ans\n",
    "spam.bacon()\"\"\""
   ]
  },
  {
   "cell_type": "code",
   "execution_count": null,
   "id": "23cbbb41",
   "metadata": {},
   "outputs": [],
   "source": [
    "\"\"\"13. What can you do to save a programme from crashing if it encounters an error?\n",
    "Ans\n",
    "In Python, we use the try and except statements to handle exceptions. \n",
    "Whenever the code breaks down, an exception is thrown without crashing the program. \"\"\"\n"
   ]
  },
  {
   "cell_type": "code",
   "execution_count": null,
   "id": "cca71da7",
   "metadata": {},
   "outputs": [],
   "source": [
    "\"\"\"14. What is the purpose of the try clause? What is the purpose of the except clause?\n",
    "\n",
    "Ans\n",
    "In the try clause, all statements are executed until an exception is encountered.\n",
    "except is used to catch and handle the exception(s) that are encountered in the try clause. else lets you code sections\n",
    "that should run only when no exceptions are encountered in the try clause.\"\"\""
   ]
  }
 ],
 "metadata": {
  "kernelspec": {
   "display_name": "Python 3",
   "language": "python",
   "name": "python3"
  },
  "language_info": {
   "codemirror_mode": {
    "name": "ipython",
    "version": 3
   },
   "file_extension": ".py",
   "mimetype": "text/x-python",
   "name": "python",
   "nbconvert_exporter": "python",
   "pygments_lexer": "ipython3",
   "version": "3.8.8"
  }
 },
 "nbformat": 4,
 "nbformat_minor": 5
}
